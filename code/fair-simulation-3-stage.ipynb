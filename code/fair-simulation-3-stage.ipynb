{
 "cells": [
  {
   "cell_type": "code",
   "execution_count": 1,
   "metadata": {},
   "outputs": [],
   "source": [
    "import numpy as np\n",
    "from dataLoad import dataset_from_name\n",
    "from optimizer.linear import Optimal\n",
    "import itertools\n",
    "from matplotlib import pyplot as plt\n",
    "from tqdm import tqdm_notebook\n",
    "import pickle"
   ]
  },
  {
   "cell_type": "markdown",
   "metadata": {},
   "source": [
    "Auxillary functions"
   ]
  },
  {
   "cell_type": "code",
   "execution_count": 2,
   "metadata": {},
   "outputs": [],
   "source": [
    "def learn(X, y):\n",
    "    N, n = X.shape\n",
    "    num_feat = n - 1\n",
    "\n",
    "    def get_counts(X):\n",
    "        N, n = X.shape\n",
    "        p = np.zeros(tuple([2] * n))\n",
    "        for i in range(N):\n",
    "            p[tuple(X[i, :])] += 1\n",
    "        return p\n",
    "\n",
    "    Xy = np.hstack((X, y))\n",
    "    p = get_counts(X) / N\n",
    "    py = get_counts(X[Xy[:, -1] == 1]) / N / (p + 10e-9)\n",
    "    return p, py\n",
    "\n",
    "def get_fairness(optimizer, alpha3, fairness_def):\n",
    "    volfs = []\n",
    "    gfs = []\n",
    "    lfs = []\n",
    "    for alpha1 in np.linspace(alpha3, 1, 5):\n",
    "        for alpha2 in np.linspace(alpha3, alpha1, 5):\n",
    "            gf, lf, volf = optimizer.minimize_violation([alpha1, alpha2, alpha3],  fairness_def=fairness_def, num_stage=3)\n",
    "            gfs.append(gf)\n",
    "            lfs.append(lf)\n",
    "            volfs.append(volf)\n",
    "    return np.array(gfs) / np.array(lfs), volfs"
   ]
  },
  {
   "cell_type": "markdown",
   "metadata": {},
   "source": [
    "## Simulation procedure\n",
    "\n",
    "Choose dataset_name:\n",
    "* adult\n",
    "* compas\n",
    "* german\n",
    "\n",
    "and fairness_def $\\in$ {dp, eo}"
   ]
  },
  {
   "cell_type": "code",
   "execution_count": 3,
   "metadata": {},
   "outputs": [
    {
     "name": "stdout",
     "output_type": "stream",
     "text": [
      "job\n"
     ]
    },
    {
     "data": {
      "application/vnd.jupyter.widget-view+json": {
       "model_id": "dd902dd65b6e4b2c8fb7659024084945",
       "version_major": 2,
       "version_minor": 0
      },
      "text/plain": [
       "HBox(children=(IntProgress(value=1, bar_style='info', max=1), HTML(value='')))"
      ]
     },
     "metadata": {},
     "output_type": "display_data"
    },
    {
     "name": "stdout",
     "output_type": "stream",
     "text": [
      "\n",
      "housing\n"
     ]
    },
    {
     "data": {
      "application/vnd.jupyter.widget-view+json": {
       "model_id": "968a6212196a47b8b6518e6d7d35afff",
       "version_major": 2,
       "version_minor": 0
      },
      "text/plain": [
       "HBox(children=(IntProgress(value=1, bar_style='info', max=1), HTML(value='')))"
      ]
     },
     "metadata": {},
     "output_type": "display_data"
    },
    {
     "name": "stdout",
     "output_type": "stream",
     "text": [
      "\n",
      "sex\n"
     ]
    },
    {
     "data": {
      "application/vnd.jupyter.widget-view+json": {
       "model_id": "6f4b29ea710e4a428fcd256aa0df33a8",
       "version_major": 2,
       "version_minor": 0
      },
      "text/plain": [
       "HBox(children=(IntProgress(value=1, bar_style='info', max=1), HTML(value='')))"
      ]
     },
     "metadata": {},
     "output_type": "display_data"
    },
    {
     "name": "stdout",
     "output_type": "stream",
     "text": [
      "\n",
      "savings\n"
     ]
    },
    {
     "data": {
      "application/vnd.jupyter.widget-view+json": {
       "model_id": "7f51cdef7be1486d8ab55ddce109dc11",
       "version_major": 2,
       "version_minor": 0
      },
      "text/plain": [
       "HBox(children=(IntProgress(value=1, bar_style='info', max=1), HTML(value='')))"
      ]
     },
     "metadata": {},
     "output_type": "display_data"
    },
    {
     "name": "stdout",
     "output_type": "stream",
     "text": [
      "\n",
      "credit_history\n"
     ]
    },
    {
     "data": {
      "application/vnd.jupyter.widget-view+json": {
       "model_id": "226c9a2b4a75493ba5859053a6aac5ee",
       "version_major": 2,
       "version_minor": 0
      },
      "text/plain": [
       "HBox(children=(IntProgress(value=1, bar_style='info', max=1), HTML(value='')))"
      ]
     },
     "metadata": {},
     "output_type": "display_data"
    },
    {
     "name": "stdout",
     "output_type": "stream",
     "text": [
      "\n",
      "age\n"
     ]
    },
    {
     "data": {
      "application/vnd.jupyter.widget-view+json": {
       "model_id": "18d5a6ca8541427aae86f6ef9aba7e3b",
       "version_major": 2,
       "version_minor": 0
      },
      "text/plain": [
       "HBox(children=(IntProgress(value=1, bar_style='info', max=1), HTML(value='')))"
      ]
     },
     "metadata": {},
     "output_type": "display_data"
    },
    {
     "name": "stdout",
     "output_type": "stream",
     "text": [
      "\n"
     ]
    }
   ],
   "source": [
    "dataset_name = \"german\"\n",
    "fairness_def = \"eo\"\n",
    "\n",
    "optimizer = Optimal()\n",
    "alpha3 = 0.3\n",
    "\n",
    "data = dataset_from_name(dataset_name).astype(int)\n",
    "features = list(data)[:-1]\n",
    "label = list(data)[-1]\n",
    "\n",
    "try:\n",
    "    polfs = pickle.load(open( \"./data/polf-3-fair-{}-{}.pickle\".format(dataset_name, fairness_def), \"rb\" ) )\n",
    "    volfs = pickle.load(open( \"./data/volf-3-fair-{}-{}.pickle\".format(dataset_name, fairness_def), \"rb\" ) )\n",
    "    keys = pickle.load(open( \"./data/key-3-fair-{}-{}.pickle\".format(dataset_name, fairness_def), \"rb\" ) )\n",
    "except:\n",
    "    polfs = {}\n",
    "    volfs = {}\n",
    "    keys = []\n",
    "for Xs in features:   \n",
    "    if Xs not in polfs:\n",
    "        polfs[Xs] = []\n",
    "        volfs[Xs] = []\n",
    "    perm = itertools.permutations(features, 3)\n",
    "    print (Xs)\n",
    "    for feature_comb in tqdm_notebook(perm):\n",
    "        if Xs not in feature_comb:\n",
    "            key = tuple([Xs] + list(np.sort(feature_comb)))\n",
    "            if key not in keys:\n",
    "                p, py = learn(data[[Xs] + list(np.sort(feature_comb))].values, data[[label]].values)\n",
    "                ps = {1: np.zeros((2,2,2,2,2,2,2)), 2: np.zeros((2,2,2,2,2,2,2)), 3: np.zeros((2,2,2,2,2,2,2)), 4: np.zeros((2,2,2,2))}\n",
    "                pys = {1: np.zeros((2,2,2,2,2,2,2)), 2: np.zeros((2,2,2,2,2,2,2)), 3: np.zeros((2,2,2,2,2,2,2)), 4: np.zeros((2,2,2,2))}\n",
    "                for xs, x1, x2, x3, x4 in itertools.product([0, 1], repeat=5): \n",
    "                    ps[1][xs, xs, x1, x2, x2, x3, x3] = p[xs,x1,x2,x3]\n",
    "                    pys[1][xs, xs, x1, x2, x2, x3, x3] = py[xs,x1,x2,x3]\n",
    "\n",
    "                    ps[2][xs, x1, x1, xs, x2, x3, x3] = p[xs,x1,x2,x3]\n",
    "                    pys[2][xs, x1, x1, xs, x2, x3, x3] = py[xs,x1,x2,x3]\n",
    "\n",
    "                    ps[3][xs, x1, x1, x2, x2, x3,xs] = p[xs,x1,x2,x3]\n",
    "                    pys[3][xs, x1, x1, x2, x2, x3,xs] = py[xs,x1,x2,x3]\n",
    "                    \n",
    "                    ps[4][xs, x1, x2, x3] = p[xs,x1,x2,x3]\n",
    "                    pys[4][xs, x1, x2, x3] = py[xs,x1,x2,x3]\n",
    "                polf_temp, volf_temp = [], []\n",
    "                for stage in [1, 2, 3, 4]:\n",
    "                    optimizer.p = ps[stage]\n",
    "                    optimizer.py = pys[stage]\n",
    "                    if stage == 4:\n",
    "                        optimizer.num_feat = 3\n",
    "                    else:\n",
    "                        optimizer.num_feat = 6\n",
    "                    polf, volf = get_fairness(optimizer, alpha3, fairness_def)\n",
    "                    polf_temp.append(polf)\n",
    "                    volf_temp.append(volf)\n",
    "\n",
    "                polfs[Xs].append(polf_temp)\n",
    "                volfs[Xs].append(volf_temp)\n",
    "\n",
    "                keys.append(key)\n",
    "            pickle.dump(keys, open(\"./data/key-3-fair-{}-{}.pickle\".format(dataset_name, fairness_def), \"wb\"))\n",
    "            pickle.dump(polfs, open(\"./data/polf-3-fair-{}-{}.pickle\".format(dataset_name, fairness_def), \"wb\"))\n",
    "            pickle.dump(volfs, open(\"./data/volf-3-fair-{}-{}.pickle\".format(dataset_name, fairness_def), \"wb\"))"
   ]
  }
 ],
 "metadata": {
  "kernelspec": {
   "display_name": "Python 3",
   "language": "python",
   "name": "python3"
  },
  "language_info": {
   "codemirror_mode": {
    "name": "ipython",
    "version": 3
   },
   "file_extension": ".py",
   "mimetype": "text/x-python",
   "name": "python",
   "nbconvert_exporter": "python",
   "pygments_lexer": "ipython3",
   "version": "3.7.2"
  }
 },
 "nbformat": 4,
 "nbformat_minor": 2
}
