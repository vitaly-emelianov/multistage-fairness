{
 "cells": [
  {
   "cell_type": "code",
   "execution_count": 6,
   "metadata": {},
   "outputs": [],
   "source": [
    "import numpy as np\n",
    "from dataLoad import dataset_from_name\n",
    "from optimizer.linear import Optimal\n",
    "import itertools\n",
    "from matplotlib import pyplot as plt\n",
    "from tqdm import tqdm_notebook"
   ]
  },
  {
   "cell_type": "markdown",
   "metadata": {},
   "source": [
    "Auxillary functions"
   ]
  },
  {
   "cell_type": "code",
   "execution_count": 7,
   "metadata": {},
   "outputs": [],
   "source": [
    "def learn(X, y):\n",
    "    N, n = X.shape\n",
    "    num_feat = n - 1\n",
    "\n",
    "    def get_counts(X):\n",
    "        N, n = X.shape\n",
    "        p = np.zeros(tuple([2] * n))\n",
    "        for i in range(N):\n",
    "            p[tuple(X[i, :])] += 1\n",
    "        return p\n",
    "\n",
    "    Xy = np.hstack((X, y))\n",
    "    p = get_counts(X) / N\n",
    "    py = get_counts(X[Xy[:, -1] == 1]) / N / (p + 10e-9)\n",
    "    return p, py\n",
    "\n",
    "def get_fairness(optimizer, alpha2, fairness_def):\n",
    "    gfs, lfs, volfs = [], [], []\n",
    "    for alpha1 in np.linspace(alpha2, 1, 20):\n",
    "        gf, lf, volf = optimizer.minimize_violation([alpha1, alpha2],  fairness_def=fairness_def, num_stage=2)\n",
    "        gfs.append(gf)\n",
    "        lfs.append(lf)\n",
    "        volfs.append(volf)\n",
    "    return np.array(gfs) / np.array(lfs) , volfs"
   ]
  },
  {
   "cell_type": "markdown",
   "metadata": {},
   "source": [
    "## Simulation procedure\n",
    "\n",
    "Choose dataset_name:\n",
    "* adult\n",
    "* compas\n",
    "* german\n",
    "\n",
    "and fairness_def $\\in$ {dp, eo}"
   ]
  },
  {
   "cell_type": "code",
   "execution_count": 8,
   "metadata": {},
   "outputs": [
    {
     "name": "stdout",
     "output_type": "stream",
     "text": [
      "sex\n"
     ]
    },
    {
     "data": {
      "application/vnd.jupyter.widget-view+json": {
       "model_id": "b77abeaab0c143a2a7fd760d92abedda",
       "version_major": 2,
       "version_minor": 0
      },
      "text/plain": [
       "HBox(children=(IntProgress(value=1, bar_style='info', max=1), HTML(value='')))"
      ]
     },
     "metadata": {},
     "output_type": "display_data"
    },
    {
     "name": "stdout",
     "output_type": "stream",
     "text": [
      "\n",
      "age\n"
     ]
    },
    {
     "data": {
      "application/vnd.jupyter.widget-view+json": {
       "model_id": "6982aedaa87244a7b8398bceef51988d",
       "version_major": 2,
       "version_minor": 0
      },
      "text/plain": [
       "HBox(children=(IntProgress(value=1, bar_style='info', max=1), HTML(value='')))"
      ]
     },
     "metadata": {},
     "output_type": "display_data"
    },
    {
     "name": "stdout",
     "output_type": "stream",
     "text": [
      "\n",
      "native_country\n"
     ]
    },
    {
     "data": {
      "application/vnd.jupyter.widget-view+json": {
       "model_id": "e528ed8e46d44d54a1a15188ad196be0",
       "version_major": 2,
       "version_minor": 0
      },
      "text/plain": [
       "HBox(children=(IntProgress(value=1, bar_style='info', max=1), HTML(value='')))"
      ]
     },
     "metadata": {},
     "output_type": "display_data"
    },
    {
     "name": "stdout",
     "output_type": "stream",
     "text": [
      "\n",
      "hours_per_week\n"
     ]
    },
    {
     "data": {
      "application/vnd.jupyter.widget-view+json": {
       "model_id": "bc7bba9bd38f4010a91b4131cf198d21",
       "version_major": 2,
       "version_minor": 0
      },
      "text/plain": [
       "HBox(children=(IntProgress(value=1, bar_style='info', max=1), HTML(value='')))"
      ]
     },
     "metadata": {},
     "output_type": "display_data"
    },
    {
     "name": "stdout",
     "output_type": "stream",
     "text": [
      "\n",
      "education\n"
     ]
    },
    {
     "data": {
      "application/vnd.jupyter.widget-view+json": {
       "model_id": "783ee789203f4f99b0b99f3cb5fa307c",
       "version_major": 2,
       "version_minor": 0
      },
      "text/plain": [
       "HBox(children=(IntProgress(value=1, bar_style='info', max=1), HTML(value='')))"
      ]
     },
     "metadata": {},
     "output_type": "display_data"
    },
    {
     "name": "stdout",
     "output_type": "stream",
     "text": [
      "\n",
      "relationship\n"
     ]
    },
    {
     "data": {
      "application/vnd.jupyter.widget-view+json": {
       "model_id": "1b7bf0f196914534988b54835d3758cc",
       "version_major": 2,
       "version_minor": 0
      },
      "text/plain": [
       "HBox(children=(IntProgress(value=1, bar_style='info', max=1), HTML(value='')))"
      ]
     },
     "metadata": {},
     "output_type": "display_data"
    },
    {
     "name": "stdout",
     "output_type": "stream",
     "text": [
      "\n"
     ]
    }
   ],
   "source": [
    "import pickle\n",
    "\n",
    "\n",
    "dataset_name = \"adult\"\n",
    "fairness_def = \"eo\"\n",
    "\n",
    "optimizer = Optimal()\n",
    "alpha2 = 0.3\n",
    "\n",
    "data = dataset_from_name(dataset_name).astype(int)\n",
    "features = list(data)[:-1]\n",
    "label = list(data)[-1]\n",
    "\n",
    "try:\n",
    "    polfs = pickle.load(open( \"./data/polf-fair-{}-{}.pickle\".format(dataset_name, fairness_def), \"rb\" ) )\n",
    "    volfs = pickle.load(open( \"./data/volf-fair-{}-{}.pickle\".format(dataset_name, fairness_def), \"rb\" ) )\n",
    "    keys = pickle.load(open( \"./data/key-fair-{}-{}.pickle\".format(dataset_name, fairness_def), \"rb\" ) )\n",
    "except:\n",
    "    polfs = {}\n",
    "    volfs = {}\n",
    "    keys = []\n",
    "for Xs in features:   \n",
    "    if Xs not in polfs:\n",
    "        polfs[Xs] = []\n",
    "        volfs[Xs] = []\n",
    "    perm = itertools.permutations(features, 4)\n",
    "    print (Xs)\n",
    "    for feature_comb in tqdm_notebook(perm):\n",
    "        if Xs not in feature_comb:\n",
    "            X1 = list(np.sort(feature_comb[:2]))\n",
    "            X2 = list(np.sort(feature_comb[2:]))\n",
    "            key = tuple([Xs] + list(X1) + list(X2))\n",
    "            if key not in keys:\n",
    "                p, py = learn(data[[Xs] + X1 + X2].values, data[[label]].values)\n",
    "                ps = {1: np.zeros((2,2,2,2,2,2,2)), 2: np.zeros((2,2,2,2,2,2,2)), 3: np.zeros((2,2,2,2,2))}\n",
    "                pys = {1: np.zeros((2,2,2,2,2,2,2)), 2: np.zeros((2,2,2,2,2,2,2)), 3: np.zeros((2,2,2,2,2))}\n",
    "                for xs, x1, x2, x3, x4 in itertools.product([0, 1], repeat=5): \n",
    "                    ps[1][xs, xs, x1, x2, x3, x4, x4] = p[xs,x1,x2,x3,x4]\n",
    "                    pys[1][xs, xs, x1, x2, x3, x4, x4] = py[xs,x1,x2,x3,x4]\n",
    "\n",
    "                    ps[2][xs, x1, x1, x2, x3, x4, xs] = p[xs,x1,x2,x3,x4]\n",
    "                    pys[2][xs, x1, x1, x2, x3, x4, xs] = py[xs,x1,x2,x3,x4]\n",
    "\n",
    "                    ps[3][xs,x1,x2,x3,x4] = p[xs,x1,x2,x3,x4]\n",
    "                    pys[3][xs,x1,x2,x3,x4] = py[xs,x1,x2,x3,x4]\n",
    "                polf_temp, volf_temp = [], []\n",
    "                for stage in [1,2,3]:\n",
    "                    optimizer.p = ps[stage]\n",
    "                    optimizer.py = pys[stage]\n",
    "                    if stage == 3:\n",
    "                        optimizer.num_feat = 4\n",
    "                    else:\n",
    "                        optimizer.num_feat = 6\n",
    "                    polf, volf = get_fairness(optimizer, alpha2, fairness_def)\n",
    "                    polf_temp.append(polf)\n",
    "                    volf_temp.append(volf)\n",
    "\n",
    "                polfs[Xs].append(polf_temp)\n",
    "                volfs[Xs].append(volf_temp)\n",
    "\n",
    "                keys.append(key)\n",
    "            pickle.dump(keys, open(\"./data/key-fair-{}-{}.pickle\".format(dataset_name, fairness_def), \"wb\"))\n",
    "            pickle.dump(polfs, open(\"./data/polf-fair-{}-{}.pickle\".format(dataset_name, fairness_def), \"wb\"))\n",
    "            pickle.dump(volfs, open(\"./data/volf-fair-{}-{}.pickle\".format(dataset_name, fairness_def), \"wb\"))"
   ]
  }
 ],
 "metadata": {
  "kernelspec": {
   "display_name": "Python 3",
   "language": "python",
   "name": "python3"
  },
  "language_info": {
   "codemirror_mode": {
    "name": "ipython",
    "version": 3
   },
   "file_extension": ".py",
   "mimetype": "text/x-python",
   "name": "python",
   "nbconvert_exporter": "python",
   "pygments_lexer": "ipython3",
   "version": "3.7.2"
  }
 },
 "nbformat": 4,
 "nbformat_minor": 2
}
